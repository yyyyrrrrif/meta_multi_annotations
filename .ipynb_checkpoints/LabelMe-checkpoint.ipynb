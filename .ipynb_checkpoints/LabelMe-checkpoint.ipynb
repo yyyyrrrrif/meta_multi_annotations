{
 "cells": [
  {
   "cell_type": "code",
   "execution_count": 1,
   "metadata": {},
   "outputs": [],
   "source": [
    "#-*- coding : utf-8 -*-\n",
    "# coding: utf-8\n",
    "import numpy as np\n",
    "import pandas as pd\n",
    "\n",
    "import torch\n",
    "import torch.utils.data as data\n",
    "\n",
    "### dataset\n",
    "DATA_PATH = '../Downloads/LabelMe/prepared/'\n",
    "N_CLASSES = 8"
   ]
  },
  {
   "cell_type": "code",
   "execution_count": 16,
   "metadata": {},
   "outputs": [],
   "source": [
    "class LabelMe_dataset(data.Dataset):\n",
    "    def __init__(self, data_type, data_path):\n",
    "#     def __init__(self, data_type='train', data_path):\n",
    "        self.data_type = data_type\n",
    "        self.data_path = data_path\n",
    "        # load train data\n",
    "        # images processed by VGG16\n",
    "        self.data_vgg16 = np.load(self.data_path + \"data_%s_vgg16.npy\" % self.data_type)\n",
    "        # ground truth labels\n",
    "        self.labels = np.load(self.data_path + \"labels_%s.npy\" % self.data_type)\n",
    "        \n",
    "        # data from Amazon Mechanical Turk       \n",
    "        if self.data_type == 'train':\n",
    "            self.answers = np.load(self.data_path + \"answers.npy\")\n",
    "#             N_ANNOT = answers.shape[1]\n",
    "\n",
    "    def __len__(self):\n",
    "        return self.labels.shape[0]\n",
    "\n",
    "    def __getitem__(self, idx):\n",
    "        ftrs = self.data_vgg16[idx, :, :, :]\n",
    "        true_label = self.labels[idx]\n",
    "\n",
    "        if self.data_type == 'train':\n",
    "            multi_label = self.answers[idx, :]\n",
    "            return ftrs, true_label, multi_label\n",
    "        else:\n",
    "            return ftrs, true_label"
   ]
  },
  {
   "cell_type": "code",
   "execution_count": 17,
   "metadata": {},
   "outputs": [],
   "source": [
    "train_data = LabelMe_dataset('train', DATA_PATH)"
   ]
  },
  {
   "cell_type": "code",
   "execution_count": 18,
   "metadata": {},
   "outputs": [
    {
     "data": {
      "text/plain": [
       "10000"
      ]
     },
     "execution_count": 18,
     "metadata": {},
     "output_type": "execute_result"
    }
   ],
   "source": [
    "len(train_data)"
   ]
  },
  {
   "cell_type": "code",
   "execution_count": 20,
   "metadata": {},
   "outputs": [],
   "source": [
    "test_data = LabelMe_dataset('test', DATA_PATH)"
   ]
  },
  {
   "cell_type": "code",
   "execution_count": 21,
   "metadata": {},
   "outputs": [
    {
     "data": {
      "text/plain": [
       "1188"
      ]
     },
     "execution_count": 21,
     "metadata": {},
     "output_type": "execute_result"
    }
   ],
   "source": [
    "len(test_data)"
   ]
  },
  {
   "cell_type": "code",
   "execution_count": 22,
   "metadata": {},
   "outputs": [
    {
     "data": {
      "text/plain": [
       "(array([[[0.        , 0.        , 0.01625293, ..., 0.68808085,\n",
       "          1.3688405 , 0.        ],\n",
       "         [0.        , 0.        , 0.        , ..., 0.4513925 ,\n",
       "          1.1406254 , 0.        ],\n",
       "         [0.        , 0.        , 0.29953814, ..., 0.        ,\n",
       "          0.9871232 , 0.        ],\n",
       "         [0.        , 0.        , 0.45046297, ..., 0.        ,\n",
       "          0.75083506, 0.        ]],\n",
       " \n",
       "        [[1.0246278 , 0.        , 0.        , ..., 0.28761217,\n",
       "          1.6078945 , 0.        ],\n",
       "         [0.45701092, 0.        , 0.        , ..., 0.2732437 ,\n",
       "          1.7440059 , 0.        ],\n",
       "         [0.        , 0.        , 0.12820944, ..., 0.        ,\n",
       "          1.5709205 , 0.        ],\n",
       "         [0.        , 0.        , 0.42966995, ..., 0.        ,\n",
       "          1.0708054 , 0.        ]],\n",
       " \n",
       "        [[1.5982844 , 0.        , 0.        , ..., 0.        ,\n",
       "          1.3577874 , 0.        ],\n",
       "         [1.1984329 , 0.        , 0.27263904, ..., 0.16871467,\n",
       "          1.6949823 , 0.        ],\n",
       "         [0.49256593, 0.        , 0.05524486, ..., 0.40035647,\n",
       "          1.6752226 , 0.        ],\n",
       "         [0.02295595, 0.        , 0.        , ..., 0.5955752 ,\n",
       "          1.4996904 , 0.        ]],\n",
       " \n",
       "        [[0.85459346, 0.        , 0.        , ..., 0.        ,\n",
       "          0.8975098 , 0.        ],\n",
       "         [0.742971  , 0.        , 0.3798434 , ..., 0.20147327,\n",
       "          1.2734056 , 0.        ],\n",
       "         [0.3740216 , 0.        , 0.50949925, ..., 0.40304157,\n",
       "          1.5204464 , 0.        ],\n",
       "         [0.        , 0.        , 0.14431888, ..., 0.4491049 ,\n",
       "          1.3988194 , 0.        ]]], dtype=float32), 5)"
      ]
     },
     "execution_count": 22,
     "metadata": {},
     "output_type": "execute_result"
    }
   ],
   "source": [
    "test_data[0]"
   ]
  },
  {
   "cell_type": "code",
   "execution_count": 2,
   "metadata": {},
   "outputs": [],
   "source": [
    "### model"
   ]
  },
  {
   "cell_type": "code",
   "execution_count": null,
   "metadata": {},
   "outputs": [],
   "source": [
    "### loss"
   ]
  }
 ],
 "metadata": {
  "kernelspec": {
   "display_name": "Python 3",
   "language": "python",
   "name": "python3"
  },
  "language_info": {
   "codemirror_mode": {
    "name": "ipython",
    "version": 3
   },
   "file_extension": ".py",
   "mimetype": "text/x-python",
   "name": "python",
   "nbconvert_exporter": "python",
   "pygments_lexer": "ipython3",
   "version": "3.7.4"
  }
 },
 "nbformat": 4,
 "nbformat_minor": 2
}
